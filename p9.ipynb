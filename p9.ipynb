{
 "cells": [
  {
   "cell_type": "code",
   "execution_count": null,
   "metadata": {},
   "outputs": [],
   "source": [
    "import numpy as np\n",
    "from sklearn.linear_model import LinearRegression\n",
    "\n",
    "\n",
    "Y = np.array([70, 65, 90, 95, 110, 115, 120, 140, 155, 150])\n",
    "X = np.array([80, 100, 120, 140, 160, 180, 200, 220, 240, 260])\n",
    "\n",
    "\n",
    "correlation = np.corrcoef(X, Y)[0, 1]\n",
    "print(\"Correlation coefficient between X and Y:\", correlation)\n",
    "\n",
    "\n",
    "X = X.reshape(-1, 1)  \n",
    "model = LinearRegression().fit(X, Y)\n",
    "\n",
    "\n",
    "slope = model.coef_[0]\n",
    "intercept = model.intercept_\n",
    "print(f\"Regression equation: Y = {intercept} + {slope} * X\")"
   ]
  }
 ],
 "metadata": {
  "kernelspec": {
   "display_name": "Python 3",
   "language": "python",
   "name": "python3"
  },
  "language_info": {
   "codemirror_mode": {
    "name": "ipython",
    "version": 3
   },
   "file_extension": ".py",
   "mimetype": "text/x-python",
   "name": "python",
   "nbconvert_exporter": "python",
   "pygments_lexer": "ipython3",
   "version": "3.12.5"
  }
 },
 "nbformat": 4,
 "nbformat_minor": 2
}
